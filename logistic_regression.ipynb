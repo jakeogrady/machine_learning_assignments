{
 "cells": [
  {
   "cell_type": "code",
   "id": "initial_id",
   "metadata": {
    "collapsed": true,
    "ExecuteTime": {
     "end_time": "2025-09-28T13:08:29.038729Z",
     "start_time": "2025-09-28T13:08:28.244548Z"
    }
   },
   "source": [
    "import pandas as pd\n",
    "from sklearn.linear_model import LogisticRegression\n",
    "from sklearn import metrics\n",
    "from sklearn.metrics import confusion_matrix, ConfusionMatrixDisplay\n",
    "from sklearn.preprocessing import StandardScaler\n",
    "import matplotlib.pyplot as plt\n",
    "import numpy as np\n",
    "from sklearn.pipeline import Pipeline"
   ],
   "outputs": [],
   "execution_count": 1
  },
  {
   "metadata": {
    "ExecuteTime": {
     "end_time": "2025-09-28T13:08:29.044887Z",
     "start_time": "2025-09-28T13:08:29.041229Z"
    }
   },
   "cell_type": "code",
   "source": [
    "training_file = \"wildfires_training.csv\"\n",
    "test_file = \"wildfires_test.csv\"\n",
    "\n",
    "df = pd.read_csv(\"wildfires_training.csv\")\n",
    "df_test = pd.read_csv(\"wildfires_test.csv\")\n",
    "\n",
    "dependent_variable = \"fire\"\n",
    "independent_variables = [col for col in df.columns if col != dependent_variable]"
   ],
   "id": "a9ec2e2d353b27bd",
   "outputs": [],
   "execution_count": 2
  },
  {
   "metadata": {
    "ExecuteTime": {
     "end_time": "2025-09-28T13:08:29.050136Z",
     "start_time": "2025-09-28T13:08:29.046652Z"
    }
   },
   "cell_type": "code",
   "source": "df.info()",
   "id": "1e9f1ba7fb44b557",
   "outputs": [
    {
     "name": "stdout",
     "output_type": "stream",
     "text": [
      "<class 'pandas.core.frame.DataFrame'>\n",
      "RangeIndex: 154 entries, 0 to 153\n",
      "Data columns (total 10 columns):\n",
      " #   Column         Non-Null Count  Dtype  \n",
      "---  ------         --------------  -----  \n",
      " 0   fire           154 non-null    object \n",
      " 1   year           154 non-null    int64  \n",
      " 2   temp           154 non-null    int64  \n",
      " 3   humidity       154 non-null    int64  \n",
      " 4   rainfall       154 non-null    float64\n",
      " 5   drought_code   154 non-null    float64\n",
      " 6   buildup_index  154 non-null    float64\n",
      " 7   day            154 non-null    int64  \n",
      " 8   month          154 non-null    int64  \n",
      " 9   wind_speed     154 non-null    int64  \n",
      "dtypes: float64(3), int64(6), object(1)\n",
      "memory usage: 12.2+ KB\n"
     ]
    }
   ],
   "execution_count": 3
  },
  {
   "metadata": {
    "ExecuteTime": {
     "end_time": "2025-09-28T13:08:29.060871Z",
     "start_time": "2025-09-28T13:08:29.052362Z"
    }
   },
   "cell_type": "code",
   "source": "df.describe()",
   "id": "e4bfc9bfe9cf830d",
   "outputs": [
    {
     "data": {
      "text/plain": [
       "              year        temp    humidity    rainfall  drought_code  \\\n",
       "count   154.000000  154.000000  154.000000  154.000000    154.000000   \n",
       "mean   2012.058442   31.545455   63.071429    0.855844     48.146299   \n",
       "std       3.355294    3.952481   16.038804    2.246798     47.348331   \n",
       "min    2007.000000   22.000000   21.000000    0.000000      7.180000   \n",
       "25%    2009.000000   29.000000   52.000000    0.000000      9.720000   \n",
       "50%    2012.000000   31.000000   64.000000    0.000000     31.330000   \n",
       "75%    2015.000000   34.000000   77.000000    0.600000     65.257500   \n",
       "max    2017.000000   43.000000   92.000000   16.800000    221.350000   \n",
       "\n",
       "       buildup_index         day       month  wind_speed  \n",
       "count     154.000000  154.000000  154.000000  154.000000  \n",
       "mean       16.285065   15.077922    7.603896   16.383117  \n",
       "std        14.346991    8.085760    1.217620    3.218001  \n",
       "min         1.320000    1.000000    6.000000    6.000000  \n",
       "25%         5.797500    9.000000    6.000000   14.000000  \n",
       "50%        11.450000   15.000000    8.000000   16.000000  \n",
       "75%        22.775000   21.000000    9.000000   18.750000  \n",
       "max        67.720000   31.000000    9.000000   30.000000  "
      ],
      "text/html": [
       "<div>\n",
       "<style scoped>\n",
       "    .dataframe tbody tr th:only-of-type {\n",
       "        vertical-align: middle;\n",
       "    }\n",
       "\n",
       "    .dataframe tbody tr th {\n",
       "        vertical-align: top;\n",
       "    }\n",
       "\n",
       "    .dataframe thead th {\n",
       "        text-align: right;\n",
       "    }\n",
       "</style>\n",
       "<table border=\"1\" class=\"dataframe\">\n",
       "  <thead>\n",
       "    <tr style=\"text-align: right;\">\n",
       "      <th></th>\n",
       "      <th>year</th>\n",
       "      <th>temp</th>\n",
       "      <th>humidity</th>\n",
       "      <th>rainfall</th>\n",
       "      <th>drought_code</th>\n",
       "      <th>buildup_index</th>\n",
       "      <th>day</th>\n",
       "      <th>month</th>\n",
       "      <th>wind_speed</th>\n",
       "    </tr>\n",
       "  </thead>\n",
       "  <tbody>\n",
       "    <tr>\n",
       "      <th>count</th>\n",
       "      <td>154.000000</td>\n",
       "      <td>154.000000</td>\n",
       "      <td>154.000000</td>\n",
       "      <td>154.000000</td>\n",
       "      <td>154.000000</td>\n",
       "      <td>154.000000</td>\n",
       "      <td>154.000000</td>\n",
       "      <td>154.000000</td>\n",
       "      <td>154.000000</td>\n",
       "    </tr>\n",
       "    <tr>\n",
       "      <th>mean</th>\n",
       "      <td>2012.058442</td>\n",
       "      <td>31.545455</td>\n",
       "      <td>63.071429</td>\n",
       "      <td>0.855844</td>\n",
       "      <td>48.146299</td>\n",
       "      <td>16.285065</td>\n",
       "      <td>15.077922</td>\n",
       "      <td>7.603896</td>\n",
       "      <td>16.383117</td>\n",
       "    </tr>\n",
       "    <tr>\n",
       "      <th>std</th>\n",
       "      <td>3.355294</td>\n",
       "      <td>3.952481</td>\n",
       "      <td>16.038804</td>\n",
       "      <td>2.246798</td>\n",
       "      <td>47.348331</td>\n",
       "      <td>14.346991</td>\n",
       "      <td>8.085760</td>\n",
       "      <td>1.217620</td>\n",
       "      <td>3.218001</td>\n",
       "    </tr>\n",
       "    <tr>\n",
       "      <th>min</th>\n",
       "      <td>2007.000000</td>\n",
       "      <td>22.000000</td>\n",
       "      <td>21.000000</td>\n",
       "      <td>0.000000</td>\n",
       "      <td>7.180000</td>\n",
       "      <td>1.320000</td>\n",
       "      <td>1.000000</td>\n",
       "      <td>6.000000</td>\n",
       "      <td>6.000000</td>\n",
       "    </tr>\n",
       "    <tr>\n",
       "      <th>25%</th>\n",
       "      <td>2009.000000</td>\n",
       "      <td>29.000000</td>\n",
       "      <td>52.000000</td>\n",
       "      <td>0.000000</td>\n",
       "      <td>9.720000</td>\n",
       "      <td>5.797500</td>\n",
       "      <td>9.000000</td>\n",
       "      <td>6.000000</td>\n",
       "      <td>14.000000</td>\n",
       "    </tr>\n",
       "    <tr>\n",
       "      <th>50%</th>\n",
       "      <td>2012.000000</td>\n",
       "      <td>31.000000</td>\n",
       "      <td>64.000000</td>\n",
       "      <td>0.000000</td>\n",
       "      <td>31.330000</td>\n",
       "      <td>11.450000</td>\n",
       "      <td>15.000000</td>\n",
       "      <td>8.000000</td>\n",
       "      <td>16.000000</td>\n",
       "    </tr>\n",
       "    <tr>\n",
       "      <th>75%</th>\n",
       "      <td>2015.000000</td>\n",
       "      <td>34.000000</td>\n",
       "      <td>77.000000</td>\n",
       "      <td>0.600000</td>\n",
       "      <td>65.257500</td>\n",
       "      <td>22.775000</td>\n",
       "      <td>21.000000</td>\n",
       "      <td>9.000000</td>\n",
       "      <td>18.750000</td>\n",
       "    </tr>\n",
       "    <tr>\n",
       "      <th>max</th>\n",
       "      <td>2017.000000</td>\n",
       "      <td>43.000000</td>\n",
       "      <td>92.000000</td>\n",
       "      <td>16.800000</td>\n",
       "      <td>221.350000</td>\n",
       "      <td>67.720000</td>\n",
       "      <td>31.000000</td>\n",
       "      <td>9.000000</td>\n",
       "      <td>30.000000</td>\n",
       "    </tr>\n",
       "  </tbody>\n",
       "</table>\n",
       "</div>"
      ]
     },
     "execution_count": 4,
     "metadata": {},
     "output_type": "execute_result"
    }
   ],
   "execution_count": 4
  },
  {
   "metadata": {
    "ExecuteTime": {
     "end_time": "2025-09-28T13:08:29.065359Z",
     "start_time": "2025-09-28T13:08:29.063020Z"
    }
   },
   "cell_type": "code",
   "source": "df.shape",
   "id": "84dab66af4f514c0",
   "outputs": [
    {
     "data": {
      "text/plain": [
       "(154, 10)"
      ]
     },
     "execution_count": 5,
     "metadata": {},
     "output_type": "execute_result"
    }
   ],
   "execution_count": 5
  },
  {
   "metadata": {
    "ExecuteTime": {
     "end_time": "2025-09-28T13:08:29.073144Z",
     "start_time": "2025-09-28T13:08:29.070518Z"
    }
   },
   "cell_type": "code",
   "source": [
    "# Training predictors and response variables\n",
    "X_training = df[independent_variables]\n",
    "y_training = df[dependent_variable]"
   ],
   "id": "26ba08fbd300790e",
   "outputs": [],
   "execution_count": 6
  },
  {
   "metadata": {
    "ExecuteTime": {
     "end_time": "2025-09-28T13:08:29.077133Z",
     "start_time": "2025-09-28T13:08:29.075596Z"
    }
   },
   "cell_type": "code",
   "source": [
    "X_test = df_test[independent_variables]\n",
    "y_test = df_test[dependent_variable]"
   ],
   "id": "291be89bf9f15018",
   "outputs": [],
   "execution_count": 7
  },
  {
   "metadata": {
    "ExecuteTime": {
     "end_time": "2025-09-28T13:08:29.084110Z",
     "start_time": "2025-09-28T13:08:29.078660Z"
    }
   },
   "cell_type": "code",
   "source": [
    "logreg_pipe = Pipeline([\n",
    "    (\"scaler\", StandardScaler()),\n",
    "    (\"logreg\", LogisticRegression(random_state=42))\n",
    "])\n",
    "\n",
    "logreg_pipe.fit(X_training, y_training)\n",
    "\n",
    "predictions_training = logreg_pipe.predict(X_training)\n",
    "predictions_test = logreg_pipe.predict(X_test)"
   ],
   "id": "623da361d2f2cd5e",
   "outputs": [],
   "execution_count": 8
  },
  {
   "metadata": {
    "ExecuteTime": {
     "end_time": "2025-09-28T13:08:29.088042Z",
     "start_time": "2025-09-28T13:08:29.086181Z"
    }
   },
   "cell_type": "code",
   "source": [
    "accuracy_training = metrics.accuracy_score(y_training, predictions_training)\n",
    "\n",
    "accuracy_test = metrics.accuracy_score(y_test, predictions_test)"
   ],
   "id": "a03205d75d870f47",
   "outputs": [],
   "execution_count": 9
  },
  {
   "metadata": {
    "ExecuteTime": {
     "end_time": "2025-09-28T13:08:29.091829Z",
     "start_time": "2025-09-28T13:08:29.089907Z"
    }
   },
   "cell_type": "code",
   "source": "accuracy_training",
   "id": "bc658fc62ecf0191",
   "outputs": [
    {
     "data": {
      "text/plain": [
       "0.8961038961038961"
      ]
     },
     "execution_count": 10,
     "metadata": {},
     "output_type": "execute_result"
    }
   ],
   "execution_count": 10
  },
  {
   "metadata": {
    "ExecuteTime": {
     "end_time": "2025-09-28T13:08:29.098178Z",
     "start_time": "2025-09-28T13:08:29.096359Z"
    }
   },
   "cell_type": "code",
   "source": "accuracy_test",
   "id": "549385332ebb385d",
   "outputs": [
    {
     "data": {
      "text/plain": [
       "0.86"
      ]
     },
     "execution_count": 11,
     "metadata": {},
     "output_type": "execute_result"
    }
   ],
   "execution_count": 11
  },
  {
   "metadata": {
    "ExecuteTime": {
     "end_time": "2025-09-28T13:08:29.149457Z",
     "start_time": "2025-09-28T13:08:29.101346Z"
    }
   },
   "cell_type": "code",
   "source": [
    "cm = confusion_matrix(y_test, predictions_test)\n",
    "disp = ConfusionMatrixDisplay(confusion_matrix=cm)\n",
    "disp.plot(cmap=plt.cm.Reds)"
   ],
   "id": "d23fe6b374167662",
   "outputs": [
    {
     "data": {
      "text/plain": [
       "<sklearn.metrics._plot.confusion_matrix.ConfusionMatrixDisplay at 0x1106612b0>"
      ]
     },
     "execution_count": 12,
     "metadata": {},
     "output_type": "execute_result"
    },
    {
     "data": {
      "text/plain": [
       "<Figure size 640x480 with 2 Axes>"
      ],
      "image/png": "[encoded data removed]"
     },
     "metadata": {},
     "output_type": "display_data",
     "jetTransient": {
      "display_id": null
     }
    }
   ],
   "execution_count": 12
  },
  {
   "metadata": {
    "ExecuteTime": {
     "end_time": "2025-09-28T13:08:29.152815Z",
     "start_time": "2025-09-28T13:08:29.151489Z"
    }
   },
   "cell_type": "code",
   "source": [
    "# Time to re-run with Hyper-parameter tuning\n",
    "penalties = ['l1', 'l2', None]\n",
    "c_values = np.arange(0.1, 1.0, 0.1)"
   ],
   "id": "7ed0512ae9cc2cb",
   "outputs": [],
   "execution_count": 13
  },
  {
   "metadata": {
    "ExecuteTime": {
     "end_time": "2025-09-28T13:13:40.191883Z",
     "start_time": "2025-09-28T13:13:40.113752Z"
    }
   },
   "cell_type": "code",
   "source": [
    "training_test_comparison = {}\n",
    "\n",
    "for penalty in penalties:\n",
    "    for c in c_values:\n",
    "        solver = 'liblinear' if penalty == 'l1' else 'lbfgs'\n",
    "        logreg_pipe = Pipeline([\n",
    "            (\"scaler\", StandardScaler()),\n",
    "            (\"logreg\", LogisticRegression(random_state=42, penalty=penalty,\n",
    "             C=c,\n",
    "             solver=solver)),\n",
    "        ])\n",
    "        logreg_pipe.fit(X_training, y_training)\n",
    "        predictions_training = logreg_pipe.predict(X_training)\n",
    "        predictions_test = logreg_pipe.predict(X_test)\n",
    "\n",
    "        accuracy_training = metrics.accuracy_score(y_training, predictions_training)\n",
    "        accuracy_test = metrics.accuracy_score(y_test, predictions_test)\n",
    "\n",
    "        key = f\"{penalty}-{c}\"\n",
    "\n",
    "        training_test_comparison[key] = {\"training\": accuracy_training, \"test\": accuracy_test, \"penalty\": penalty, \"c\": c}\n"
   ],
   "id": "ac90a2ba2a9c2b8c",
   "outputs": [
    {
     "name": "stderr",
     "output_type": "stream",
     "text": [
      "/Users/jakeogrady/Desktop/school/four/ml/assignment1/classification_assignment/.venv/lib/python3.13/site-packages/sklearn/linear_model/_logistic.py:1232: UserWarning: Setting penalty=None will ignore the C and l1_ratio parameters\n",
      "  warnings.warn(\n",
      "/Users/jakeogrady/Desktop/school/four/ml/assignment1/classification_assignment/.venv/lib/python3.13/site-packages/sklearn/linear_model/_logistic.py:1232: UserWarning: Setting penalty=None will ignore the C and l1_ratio parameters\n",
      "  warnings.warn(\n",
      "/Users/jakeogrady/Desktop/school/four/ml/assignment1/classification_assignment/.venv/lib/python3.13/site-packages/sklearn/linear_model/_logistic.py:1232: UserWarning: Setting penalty=None will ignore the C and l1_ratio parameters\n",
      "  warnings.warn(\n",
      "/Users/jakeogrady/Desktop/school/four/ml/assignment1/classification_assignment/.venv/lib/python3.13/site-packages/sklearn/linear_model/_logistic.py:1232: UserWarning: Setting penalty=None will ignore the C and l1_ratio parameters\n",
      "  warnings.warn(\n",
      "/Users/jakeogrady/Desktop/school/four/ml/assignment1/classification_assignment/.venv/lib/python3.13/site-packages/sklearn/linear_model/_logistic.py:1232: UserWarning: Setting penalty=None will ignore the C and l1_ratio parameters\n",
      "  warnings.warn(\n",
      "/Users/jakeogrady/Desktop/school/four/ml/assignment1/classification_assignment/.venv/lib/python3.13/site-packages/sklearn/linear_model/_logistic.py:1232: UserWarning: Setting penalty=None will ignore the C and l1_ratio parameters\n",
      "  warnings.warn(\n",
      "/Users/jakeogrady/Desktop/school/four/ml/assignment1/classification_assignment/.venv/lib/python3.13/site-packages/sklearn/linear_model/_logistic.py:1232: UserWarning: Setting penalty=None will ignore the C and l1_ratio parameters\n",
      "  warnings.warn(\n",
      "/Users/jakeogrady/Desktop/school/four/ml/assignment1/classification_assignment/.venv/lib/python3.13/site-packages/sklearn/linear_model/_logistic.py:1232: UserWarning: Setting penalty=None will ignore the C and l1_ratio parameters\n",
      "  warnings.warn(\n",
      "/Users/jakeogrady/Desktop/school/four/ml/assignment1/classification_assignment/.venv/lib/python3.13/site-packages/sklearn/linear_model/_logistic.py:1232: UserWarning: Setting penalty=None will ignore the C and l1_ratio parameters\n",
      "  warnings.warn(\n"
     ]
    }
   ],
   "execution_count": 17
  },
  {
   "metadata": {
    "ExecuteTime": {
     "end_time": "2025-09-28T13:19:03.225970Z",
     "start_time": "2025-09-28T13:19:03.176304Z"
    }
   },
   "cell_type": "code",
   "source": [
    "max_l1 = 0\n",
    "max_l2 = 0\n",
    "max_none = 0\n",
    "for key, value in training_test_comparison.items():\n",
    "    if value[\"penalty\"] == \"l1\":\n",
    "        max_l1 = max(max_l1, value[\"test\"])\n",
    "        l1_test_accuracy = value[\"test\"]\n",
    "        l2_training_accuracy = value[\"training\"]\n",
    "    elif value[\"penalty\"] == \"l2\":\n",
    "        max_l2 = max(max_l2, value[\"test\"])\n",
    "        l2_test_accuracy = value[\"test\"]\n",
    "        l2_training_accuracy = value[\"training\"]\n",
    "    else:\n",
    "        max_none = max(max_none, value[\"test\"])\n",
    "        none_test_accuracy = value[\"test\"]\n",
    "        none_training_accuracy = value[\"training\"]\n",
    "\n",
    "print(\"Best Accuracy: \", max_l1)\n",
    "print(\"Best Accuracy: \", max_l2)\n",
    "print(\"Best Accuracy: \", max_none)"
   ],
   "id": "f81de154920defbb",
   "outputs": [
    {
     "name": "stdout",
     "output_type": "stream",
     "text": [
      "Best Accuracy:  0.86\n",
      "Best Accuracy:  0.86\n",
      "Best Accuracy:  0.9\n"
     ]
    },
    {
     "ename": "InvalidParameterError",
     "evalue": "The 'y_pred' parameter of confusion_matrix must be an array-like. Got 0.86 instead.",
     "output_type": "error",
     "traceback": [
      "\u001B[31m---------------------------------------------------------------------------\u001B[39m",
      "\u001B[31mInvalidParameterError\u001B[39m                     Traceback (most recent call last)",
      "\u001B[36mCell\u001B[39m\u001B[36m \u001B[39m\u001B[32mIn[21]\u001B[39m\u001B[32m, line 22\u001B[39m\n\u001B[32m     19\u001B[39m \u001B[38;5;28mprint\u001B[39m(\u001B[33m\"\u001B[39m\u001B[33mBest Accuracy: \u001B[39m\u001B[33m\"\u001B[39m, max_l2)\n\u001B[32m     20\u001B[39m \u001B[38;5;28mprint\u001B[39m(\u001B[33m\"\u001B[39m\u001B[33mBest Accuracy: \u001B[39m\u001B[33m\"\u001B[39m, max_none)\n\u001B[32m---> \u001B[39m\u001B[32m22\u001B[39m cm = \u001B[43mconfusion_matrix\u001B[49m\u001B[43m(\u001B[49m\u001B[43my_test\u001B[49m\u001B[43m,\u001B[49m\u001B[43m \u001B[49m\u001B[43ml1_test_accuracy\u001B[49m\u001B[43m)\u001B[49m\n\u001B[32m     23\u001B[39m disp = ConfusionMatrixDisplay(confusion_matrix=cm)\n\u001B[32m     24\u001B[39m disp.plot(cmap=plt.cm.Reds)\n",
      "\u001B[36mFile \u001B[39m\u001B[32m~/Desktop/school/four/ml/assignment1/classification_assignment/.venv/lib/python3.13/site-packages/sklearn/utils/_param_validation.py:208\u001B[39m, in \u001B[36mvalidate_params.<locals>.decorator.<locals>.wrapper\u001B[39m\u001B[34m(*args, **kwargs)\u001B[39m\n\u001B[32m    205\u001B[39m to_ignore += [\u001B[33m\"\u001B[39m\u001B[33mself\u001B[39m\u001B[33m\"\u001B[39m, \u001B[33m\"\u001B[39m\u001B[33mcls\u001B[39m\u001B[33m\"\u001B[39m]\n\u001B[32m    206\u001B[39m params = {k: v \u001B[38;5;28;01mfor\u001B[39;00m k, v \u001B[38;5;129;01min\u001B[39;00m params.arguments.items() \u001B[38;5;28;01mif\u001B[39;00m k \u001B[38;5;129;01mnot\u001B[39;00m \u001B[38;5;129;01min\u001B[39;00m to_ignore}\n\u001B[32m--> \u001B[39m\u001B[32m208\u001B[39m \u001B[43mvalidate_parameter_constraints\u001B[49m\u001B[43m(\u001B[49m\n\u001B[32m    209\u001B[39m \u001B[43m    \u001B[49m\u001B[43mparameter_constraints\u001B[49m\u001B[43m,\u001B[49m\u001B[43m \u001B[49m\u001B[43mparams\u001B[49m\u001B[43m,\u001B[49m\u001B[43m \u001B[49m\u001B[43mcaller_name\u001B[49m\u001B[43m=\u001B[49m\u001B[43mfunc\u001B[49m\u001B[43m.\u001B[49m\u001B[34;43m__qualname__\u001B[39;49m\n\u001B[32m    210\u001B[39m \u001B[43m\u001B[49m\u001B[43m)\u001B[49m\n\u001B[32m    212\u001B[39m \u001B[38;5;28;01mtry\u001B[39;00m:\n\u001B[32m    213\u001B[39m     \u001B[38;5;28;01mwith\u001B[39;00m config_context(\n\u001B[32m    214\u001B[39m         skip_parameter_validation=(\n\u001B[32m    215\u001B[39m             prefer_skip_nested_validation \u001B[38;5;129;01mor\u001B[39;00m global_skip_validation\n\u001B[32m    216\u001B[39m         )\n\u001B[32m    217\u001B[39m     ):\n",
      "\u001B[36mFile \u001B[39m\u001B[32m~/Desktop/school/four/ml/assignment1/classification_assignment/.venv/lib/python3.13/site-packages/sklearn/utils/_param_validation.py:98\u001B[39m, in \u001B[36mvalidate_parameter_constraints\u001B[39m\u001B[34m(parameter_constraints, params, caller_name)\u001B[39m\n\u001B[32m     92\u001B[39m \u001B[38;5;28;01melse\u001B[39;00m:\n\u001B[32m     93\u001B[39m     constraints_str = (\n\u001B[32m     94\u001B[39m         \u001B[33mf\u001B[39m\u001B[33m\"\u001B[39m\u001B[38;5;132;01m{\u001B[39;00m\u001B[33m'\u001B[39m\u001B[33m, \u001B[39m\u001B[33m'\u001B[39m.join([\u001B[38;5;28mstr\u001B[39m(c)\u001B[38;5;250m \u001B[39m\u001B[38;5;28;01mfor\u001B[39;00m\u001B[38;5;250m \u001B[39mc\u001B[38;5;250m \u001B[39m\u001B[38;5;129;01min\u001B[39;00m\u001B[38;5;250m \u001B[39mconstraints[:-\u001B[32m1\u001B[39m]])\u001B[38;5;132;01m}\u001B[39;00m\u001B[33m or\u001B[39m\u001B[33m\"\u001B[39m\n\u001B[32m     95\u001B[39m         \u001B[33mf\u001B[39m\u001B[33m\"\u001B[39m\u001B[33m \u001B[39m\u001B[38;5;132;01m{\u001B[39;00mconstraints[-\u001B[32m1\u001B[39m]\u001B[38;5;132;01m}\u001B[39;00m\u001B[33m\"\u001B[39m\n\u001B[32m     96\u001B[39m     )\n\u001B[32m---> \u001B[39m\u001B[32m98\u001B[39m \u001B[38;5;28;01mraise\u001B[39;00m InvalidParameterError(\n\u001B[32m     99\u001B[39m     \u001B[33mf\u001B[39m\u001B[33m\"\u001B[39m\u001B[33mThe \u001B[39m\u001B[38;5;132;01m{\u001B[39;00mparam_name\u001B[38;5;132;01m!r}\u001B[39;00m\u001B[33m parameter of \u001B[39m\u001B[38;5;132;01m{\u001B[39;00mcaller_name\u001B[38;5;132;01m}\u001B[39;00m\u001B[33m must be\u001B[39m\u001B[33m\"\u001B[39m\n\u001B[32m    100\u001B[39m     \u001B[33mf\u001B[39m\u001B[33m\"\u001B[39m\u001B[33m \u001B[39m\u001B[38;5;132;01m{\u001B[39;00mconstraints_str\u001B[38;5;132;01m}\u001B[39;00m\u001B[33m. Got \u001B[39m\u001B[38;5;132;01m{\u001B[39;00mparam_val\u001B[38;5;132;01m!r}\u001B[39;00m\u001B[33m instead.\u001B[39m\u001B[33m\"\u001B[39m\n\u001B[32m    101\u001B[39m )\n",
      "\u001B[31mInvalidParameterError\u001B[39m: The 'y_pred' parameter of confusion_matrix must be an array-like. Got 0.86 instead."
     ]
    }
   ],
   "execution_count": 21
  },
  {
   "metadata": {
    "ExecuteTime": {
     "end_time": "2025-09-28T13:08:29.228599Z",
     "start_time": "2025-09-28T13:08:29.227540Z"
    }
   },
   "cell_type": "code",
   "source": "",
   "id": "5984ffcd6193460c",
   "outputs": [],
   "execution_count": null
  }
 ],
 "metadata": {
  "kernelspec": {
   "display_name": "Python 3",
   "language": "python",
   "name": "python3"
  },
  "language_info": {
   "codemirror_mode": {
    "name": "ipython",
    "version": 2
   },
   "file_extension": ".py",
   "mimetype": "text/x-python",
   "name": "python",
   "nbconvert_exporter": "python",
   "pygments_lexer": "ipython2",
   "version": "2.7.6"
  }
 },
 "nbformat": 4,
 "nbformat_minor": 5
}
