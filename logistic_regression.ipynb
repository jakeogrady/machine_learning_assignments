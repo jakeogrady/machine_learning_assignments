{
 "cells": [
  {
   "cell_type": "code",
   "execution_count": 1,
   "id": "initial_id",
   "metadata": {
    "ExecuteTime": {
     "end_time": "2025-09-30T15:19:56.612692Z",
     "start_time": "2025-09-30T15:19:55.999850Z"
    },
    "collapsed": true
   },
   "outputs": [],
   "source": [
    "import pandas as pd\n",
    "from sklearn.linear_model import LogisticRegression\n",
    "from sklearn import metrics\n",
    "from sklearn.metrics import confusion_matrix, ConfusionMatrixDisplay\n",
    "from sklearn.preprocessing import StandardScaler\n",
    "from matplotlib import colormaps\n",
    "import numpy as np\n",
    "from sklearn.pipeline import Pipeline\n",
    "import random"
   ]
  },
  {
   "cell_type": "code",
   "execution_count": 2,
   "id": "a9ec2e2d353b27bd",
   "metadata": {
    "ExecuteTime": {
     "end_time": "2025-09-30T15:19:56.618856Z",
     "start_time": "2025-09-30T15:19:56.614775Z"
    }
   },
   "outputs": [],
   "source": [
    "training_file = \"wildfires_training.csv\"\n",
    "test_file = \"wildfires_test.csv\"\n",
    "\n",
    "df = pd.read_csv(\"wildfires_training.csv\")\n",
    "df_test = pd.read_csv(\"wildfires_test.csv\")"
   ]
  },
  {
   "cell_type": "code",
   "execution_count": 3,
   "id": "1e9f1ba7fb44b557",
   "metadata": {
    "ExecuteTime": {
     "end_time": "2025-09-30T15:19:56.623428Z",
     "start_time": "2025-09-30T15:19:56.620606Z"
    }
   },
   "outputs": [
    {
     "name": "stdout",
     "output_type": "stream",
     "text": [
      "<class 'pandas.core.frame.DataFrame'>\n",
      "RangeIndex: 154 entries, 0 to 153\n",
      "Data columns (total 10 columns):\n",
      " #   Column         Non-Null Count  Dtype  \n",
      "---  ------         --------------  -----  \n",
      " 0   fire           154 non-null    object \n",
      " 1   year           154 non-null    int64  \n",
      " 2   temp           154 non-null    int64  \n",
      " 3   humidity       154 non-null    int64  \n",
      " 4   rainfall       154 non-null    float64\n",
      " 5   drought_code   154 non-null    float64\n",
      " 6   buildup_index  154 non-null    float64\n",
      " 7   day            154 non-null    int64  \n",
      " 8   month          154 non-null    int64  \n",
      " 9   wind_speed     154 non-null    int64  \n",
      "dtypes: float64(3), int64(6), object(1)\n",
      "memory usage: 12.2+ KB\n"
     ]
    }
   ],
   "source": [
    "df.info()"
   ]
  },
  {
   "cell_type": "code",
   "execution_count": 4,
   "id": "e4bfc9bfe9cf830d",
   "metadata": {
    "ExecuteTime": {
     "end_time": "2025-09-30T15:19:56.632713Z",
     "start_time": "2025-09-30T15:19:56.625125Z"
    }
   },
   "outputs": [
    {
     "data": {
      "text/html": [
       "<div>\n",
       "<style scoped>\n",
       "    .dataframe tbody tr th:only-of-type {\n",
       "        vertical-align: middle;\n",
       "    }\n",
       "\n",
       "    .dataframe tbody tr th {\n",
       "        vertical-align: top;\n",
       "    }\n",
       "\n",
       "    .dataframe thead th {\n",
       "        text-align: right;\n",
       "    }\n",
       "</style>\n",
       "<table border=\"1\" class=\"dataframe\">\n",
       "  <thead>\n",
       "    <tr style=\"text-align: right;\">\n",
       "      <th></th>\n",
       "      <th>year</th>\n",
       "      <th>temp</th>\n",
       "      <th>humidity</th>\n",
       "      <th>rainfall</th>\n",
       "      <th>drought_code</th>\n",
       "      <th>buildup_index</th>\n",
       "      <th>day</th>\n",
       "      <th>month</th>\n",
       "      <th>wind_speed</th>\n",
       "    </tr>\n",
       "  </thead>\n",
       "  <tbody>\n",
       "    <tr>\n",
       "      <th>count</th>\n",
       "      <td>154.000000</td>\n",
       "      <td>154.000000</td>\n",
       "      <td>154.000000</td>\n",
       "      <td>154.000000</td>\n",
       "      <td>154.000000</td>\n",
       "      <td>154.000000</td>\n",
       "      <td>154.000000</td>\n",
       "      <td>154.000000</td>\n",
       "      <td>154.000000</td>\n",
       "    </tr>\n",
       "    <tr>\n",
       "      <th>mean</th>\n",
       "      <td>2012.058442</td>\n",
       "      <td>31.545455</td>\n",
       "      <td>63.071429</td>\n",
       "      <td>0.855844</td>\n",
       "      <td>48.146299</td>\n",
       "      <td>16.285065</td>\n",
       "      <td>15.077922</td>\n",
       "      <td>7.603896</td>\n",
       "      <td>16.383117</td>\n",
       "    </tr>\n",
       "    <tr>\n",
       "      <th>std</th>\n",
       "      <td>3.355294</td>\n",
       "      <td>3.952481</td>\n",
       "      <td>16.038804</td>\n",
       "      <td>2.246798</td>\n",
       "      <td>47.348331</td>\n",
       "      <td>14.346991</td>\n",
       "      <td>8.085760</td>\n",
       "      <td>1.217620</td>\n",
       "      <td>3.218001</td>\n",
       "    </tr>\n",
       "    <tr>\n",
       "      <th>min</th>\n",
       "      <td>2007.000000</td>\n",
       "      <td>22.000000</td>\n",
       "      <td>21.000000</td>\n",
       "      <td>0.000000</td>\n",
       "      <td>7.180000</td>\n",
       "      <td>1.320000</td>\n",
       "      <td>1.000000</td>\n",
       "      <td>6.000000</td>\n",
       "      <td>6.000000</td>\n",
       "    </tr>\n",
       "    <tr>\n",
       "      <th>25%</th>\n",
       "      <td>2009.000000</td>\n",
       "      <td>29.000000</td>\n",
       "      <td>52.000000</td>\n",
       "      <td>0.000000</td>\n",
       "      <td>9.720000</td>\n",
       "      <td>5.797500</td>\n",
       "      <td>9.000000</td>\n",
       "      <td>6.000000</td>\n",
       "      <td>14.000000</td>\n",
       "    </tr>\n",
       "    <tr>\n",
       "      <th>50%</th>\n",
       "      <td>2012.000000</td>\n",
       "      <td>31.000000</td>\n",
       "      <td>64.000000</td>\n",
       "      <td>0.000000</td>\n",
       "      <td>31.330000</td>\n",
       "      <td>11.450000</td>\n",
       "      <td>15.000000</td>\n",
       "      <td>8.000000</td>\n",
       "      <td>16.000000</td>\n",
       "    </tr>\n",
       "    <tr>\n",
       "      <th>75%</th>\n",
       "      <td>2015.000000</td>\n",
       "      <td>34.000000</td>\n",
       "      <td>77.000000</td>\n",
       "      <td>0.600000</td>\n",
       "      <td>65.257500</td>\n",
       "      <td>22.775000</td>\n",
       "      <td>21.000000</td>\n",
       "      <td>9.000000</td>\n",
       "      <td>18.750000</td>\n",
       "    </tr>\n",
       "    <tr>\n",
       "      <th>max</th>\n",
       "      <td>2017.000000</td>\n",
       "      <td>43.000000</td>\n",
       "      <td>92.000000</td>\n",
       "      <td>16.800000</td>\n",
       "      <td>221.350000</td>\n",
       "      <td>67.720000</td>\n",
       "      <td>31.000000</td>\n",
       "      <td>9.000000</td>\n",
       "      <td>30.000000</td>\n",
       "    </tr>\n",
       "  </tbody>\n",
       "</table>\n",
       "</div>"
      ],
      "text/plain": [
       "              year        temp    humidity    rainfall  drought_code  \\\n",
       "count   154.000000  154.000000  154.000000  154.000000    154.000000   \n",
       "mean   2012.058442   31.545455   63.071429    0.855844     48.146299   \n",
       "std       3.355294    3.952481   16.038804    2.246798     47.348331   \n",
       "min    2007.000000   22.000000   21.000000    0.000000      7.180000   \n",
       "25%    2009.000000   29.000000   52.000000    0.000000      9.720000   \n",
       "50%    2012.000000   31.000000   64.000000    0.000000     31.330000   \n",
       "75%    2015.000000   34.000000   77.000000    0.600000     65.257500   \n",
       "max    2017.000000   43.000000   92.000000   16.800000    221.350000   \n",
       "\n",
       "       buildup_index         day       month  wind_speed  \n",
       "count     154.000000  154.000000  154.000000  154.000000  \n",
       "mean       16.285065   15.077922    7.603896   16.383117  \n",
       "std        14.346991    8.085760    1.217620    3.218001  \n",
       "min         1.320000    1.000000    6.000000    6.000000  \n",
       "25%         5.797500    9.000000    6.000000   14.000000  \n",
       "50%        11.450000   15.000000    8.000000   16.000000  \n",
       "75%        22.775000   21.000000    9.000000   18.750000  \n",
       "max        67.720000   31.000000    9.000000   30.000000  "
      ]
     },
     "execution_count": 4,
     "metadata": {},
     "output_type": "execute_result"
    }
   ],
   "source": [
    "df.describe()"
   ]
  },
  {
   "cell_type": "code",
   "execution_count": 5,
   "id": "84dab66af4f514c0",
   "metadata": {
    "ExecuteTime": {
     "end_time": "2025-09-30T15:19:56.655606Z",
     "start_time": "2025-09-30T15:19:56.653845Z"
    }
   },
   "outputs": [
    {
     "data": {
      "text/plain": [
       "(154, 10)"
      ]
     },
     "execution_count": 5,
     "metadata": {},
     "output_type": "execute_result"
    }
   ],
   "source": [
    "df.shape"
   ]
  },
  {
   "cell_type": "markdown",
   "id": "c11ebddfe2498523",
   "metadata": {},
   "source": "## Pre-Processing"
  },
  {
   "cell_type": "code",
   "execution_count": 6,
   "id": "274cc22f052dd86",
   "metadata": {
    "ExecuteTime": {
     "end_time": "2025-09-30T15:19:56.661760Z",
     "start_time": "2025-09-30T15:19:56.659831Z"
    }
   },
   "outputs": [],
   "source": [
    "# Interaction Months\n",
    "df[\"temp_humidity\"] = df[\"temp\"] * df[\"humidity\"]\n",
    "df[\"wind_bui\"] = df[\"wind_speed\"] * df[\"buildup_index\"]\n",
    "\n",
    "df_test[\"temp_humidity\"] = df_test[\"temp\"] * df_test[\"humidity\"]\n",
    "df_test[\"wind_bui\"] = df_test[\"wind_speed\"] * df_test[\"buildup_index\"]"
   ]
  },
  {
   "cell_type": "code",
   "execution_count": 7,
   "id": "682a4056bf07d858",
   "metadata": {
    "ExecuteTime": {
     "end_time": "2025-09-30T15:19:56.664367Z",
     "start_time": "2025-09-30T15:19:56.663083Z"
    }
   },
   "outputs": [],
   "source": [
    "dependent_variable = \"fire\"\n",
    "independent_variables = [col for col in df.columns if col != dependent_variable]"
   ]
  },
  {
   "cell_type": "code",
   "execution_count": 8,
   "id": "26ba08fbd300790e",
   "metadata": {
    "ExecuteTime": {
     "end_time": "2025-09-30T15:19:56.668308Z",
     "start_time": "2025-09-30T15:19:56.666687Z"
    }
   },
   "outputs": [],
   "source": [
    "# Training predictors and response variables\n",
    "X_training = df[independent_variables]\n",
    "y_training = df[dependent_variable] == \"yes\""
   ]
  },
  {
   "cell_type": "code",
   "execution_count": 9,
   "id": "291be89bf9f15018",
   "metadata": {
    "ExecuteTime": {
     "end_time": "2025-09-30T15:19:56.671480Z",
     "start_time": "2025-09-30T15:19:56.670022Z"
    }
   },
   "outputs": [],
   "source": [
    "X_test = df_test[independent_variables]\n",
    "y_test = df_test[dependent_variable] == \"yes\""
   ]
  },
  {
   "cell_type": "code",
   "execution_count": 10,
   "id": "7ed0512ae9cc2cb",
   "metadata": {
    "ExecuteTime": {
     "end_time": "2025-09-30T15:19:56.676727Z",
     "start_time": "2025-09-30T15:19:56.675461Z"
    }
   },
   "outputs": [],
   "source": [
    "# Time to re-run with Hyper-parameter tuning\n",
    "penalties = [\"l1\", \"l2\", \"elasticnet\", None]\n",
    "c_values = np.logspace(-3, 3, 100)"
   ]
  },
  {
   "cell_type": "code",
   "execution_count": 11,
   "id": "ac90a2ba2a9c2b8c",
   "metadata": {
    "ExecuteTime": {
     "end_time": "2025-09-30T15:19:58.727933Z",
     "start_time": "2025-09-30T15:19:56.679722Z"
    }
   },
   "outputs": [],
   "source": [
    "training_test_comparison = {}\n",
    "\n",
    "for penalty in penalties:\n",
    "    models_info = []\n",
    "    for c in c_values:\n",
    "        l1_ratio = 0.3 if penalty == \"elasticnet\" else None\n",
    "\n",
    "        if penalty == \"l1\":\n",
    "            solver = \"liblinear\"\n",
    "        elif penalty == \"elasticnet\":\n",
    "            solver = \"saga\"\n",
    "        else:\n",
    "            solver = \"lbfgs\"\n",
    "\n",
    "        logreg_pipe = Pipeline(\n",
    "            [\n",
    "                (\"scaler\", StandardScaler()),\n",
    "                (\n",
    "                    \"logreg\",\n",
    "                    LogisticRegression(\n",
    "                        random_state=42,\n",
    "                        penalty=penalty,\n",
    "                        solver=solver,\n",
    "                        max_iter=5000,\n",
    "                        C=c if penalty is not None else 1.0,\n",
    "                        l1_ratio=l1_ratio,\n",
    "                    ),\n",
    "                ),\n",
    "            ]\n",
    "        )\n",
    "\n",
    "        logreg_pipe.fit(X_training, y_training)\n",
    "        predictions_training = logreg_pipe.predict(X_training)\n",
    "        predictions_test = logreg_pipe.predict(X_test)\n",
    "\n",
    "        accuracy_training = metrics.accuracy_score(y_training, predictions_training)\n",
    "        accuracy_test = metrics.accuracy_score(y_test, predictions_test)\n",
    "\n",
    "        models_info.append(\n",
    "            {\n",
    "                \"C\": c,\n",
    "                \"training_accuracy\": accuracy_training,\n",
    "                \"test_accuracy\": accuracy_test,\n",
    "                \"coefficients\": logreg_pipe.named_steps[\"logreg\"].coef_,\n",
    "                \"intercept\": logreg_pipe.named_steps[\"logreg\"].intercept_,\n",
    "                \"pipeline\": logreg_pipe,\n",
    "                \"predictions_test\": predictions_test,\n",
    "            }\n",
    "        )\n",
    "\n",
    "    # Save all models for this penalty\n",
    "    training_test_comparison[penalty] = models_info"
   ]
  },
  {
   "cell_type": "code",
   "execution_count": 12,
   "id": "f81de154920defbb",
   "metadata": {
    "ExecuteTime": {
     "end_time": "2025-09-30T15:19:58.732224Z",
     "start_time": "2025-09-30T15:19:58.729962Z"
    }
   },
   "outputs": [
    {
     "name": "stdout",
     "output_type": "stream",
     "text": [
      "Best l1 model:\n",
      "  C = 8.697490026177835\n",
      "  Training Accuracy = 0.9416\n",
      "  Test Accuracy = 0.9200\n",
      "  Coefficients = [[  0.30861928   1.89185419   1.73283285 -30.98701068   0.\n",
      "    0.          -0.49753925   0.21319973  -0.40585903  -2.39914192\n",
      "    4.46277264]]\n",
      "  Intercept = [-9.00719446]\n",
      "\n",
      "Best l2 model:\n",
      "  C = 17.47528400007683\n",
      "  Training Accuracy = 0.9156\n",
      "  Test Accuracy = 0.9400\n",
      "  Coefficients = [[  0.14283778   1.30242127   1.54285929 -10.51785438  -1.71606556\n",
      "    1.739847    -0.5104233    0.22074675  -0.44674296  -1.87749636\n",
      "    3.23502585]]\n",
      "  Intercept = [-2.21142958]\n",
      "\n",
      "Best elasticnet model:\n",
      "  C = 13.219411484660288\n",
      "  Training Accuracy = 0.9156\n",
      "  Test Accuracy = 0.9400\n",
      "  Coefficients = [[  0.13937616   1.12645922   1.21127038 -10.39584491  -1.68902658\n",
      "    1.83902084  -0.51330045   0.22019413  -0.42644092  -1.60158249\n",
      "    3.08606607]]\n",
      "  Intercept = [-2.1950106]\n",
      "\n",
      "Best None model:\n",
      "  C = 0.001\n",
      "  Training Accuracy = 0.9351\n",
      "  Test Accuracy = 0.8800\n",
      "  Coefficients = [[ 8.90979593e-01  1.82530368e+01  2.78777254e+01 -1.21235479e+02\n",
      "   7.37633807e+00 -6.96513771e+00 -6.87057183e-01 -3.01653946e-02\n",
      "  -8.42910516e-01 -2.60241016e+01  8.45164776e+00]]\n",
      "  Intercept = [-37.93776889]\n",
      "\n"
     ]
    }
   ],
   "source": [
    "# Print nicely\n",
    "for pen in penalties:\n",
    "    best_model = max(training_test_comparison[pen], key=lambda x: x[\"test_accuracy\"])\n",
    "    print(f\"Best {pen} model:\")\n",
    "    print(f\"  C = {best_model['C']}\")\n",
    "    print(f\"  Training Accuracy = {best_model['training_accuracy']:.4f}\")\n",
    "    print(f\"  Test Accuracy = {best_model['test_accuracy']:.4f}\")\n",
    "    print(f\"  Coefficients = {best_model['coefficients']}\")\n",
    "    print(f\"  Intercept = {best_model['intercept']}\\n\")"
   ]
  },
  {
   "cell_type": "markdown",
   "id": "e33bf97e82c6277b",
   "metadata": {},
   "source": [
    "## Comparison Graphs\n",
    "Below are graphs showing the effect of penalty functions and C Values (Lambda Inverse) on Logistic Regression"
   ]
  },
  {
   "cell_type": "code",
   "execution_count": 13,
   "id": "3a5a07cc5aea7133",
   "metadata": {
    "ExecuteTime": {
     "end_time": "2025-09-30T15:19:58.951916Z",
     "start_time": "2025-09-30T15:19:58.741116Z"
    }
   },
   "outputs": [
    {
     "data": {
      "image/png": "[encoded data removed]",
      "text/plain": [
       "<Figure size 600x600 with 8 Axes>"
      ]
     },
     "jetTransient": {
      "display_id": null
     },
     "metadata": {},
     "output_type": "display_data"
    }
   ],
   "source": [
    "from matplotlib import pyplot as plt\n",
    "\n",
    "fig, ax = plt.subplots(nrows=2, ncols=2, figsize=(6, 6))\n",
    "ax = ax.flatten()\n",
    "\n",
    "for i, pen in enumerate([\"l1\", \"l2\", \"elasticnet\", None]):\n",
    "    best_model = max(training_test_comparison[pen], key=lambda x: x[\"test_accuracy\"])\n",
    "\n",
    "    cm = confusion_matrix(y_test, best_model[\"predictions_test\"])\n",
    "    disp = ConfusionMatrixDisplay(\n",
    "        confusion_matrix=cm, display_labels=logreg_pipe.classes_\n",
    "    )\n",
    "\n",
    "    disp.plot(cmap=random.choice(list(colormaps)), ax=ax[i])\n",
    "    disp.ax_.set_title(f\"Penalty: {pen}\")"
   ]
  }
 ],
 "metadata": {
  "kernelspec": {
   "display_name": "Python 3",
   "language": "python",
   "name": "python3"
  },
  "language_info": {
   "codemirror_mode": {
    "name": "ipython",
    "version": 2
   },
   "file_extension": ".py",
   "mimetype": "text/x-python",
   "name": "python",
   "nbconvert_exporter": "python",
   "pygments_lexer": "ipython2",
   "version": "2.7.6"
  }
 },
 "nbformat": 4,
 "nbformat_minor": 5
}
