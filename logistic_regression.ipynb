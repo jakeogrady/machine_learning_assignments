{
 "cells": [
  {
   "cell_type": "code",
   "execution_count": 1,
   "id": "initial_id",
   "metadata": {
    "ExecuteTime": {
     "end_time": "2025-09-28T14:22:31.549477Z",
     "start_time": "2025-09-28T14:22:30.770321Z"
    },
    "collapsed": true
   },
   "outputs": [],
   "source": [
    "import pandas as pd\n",
    "from sklearn.linear_model import LogisticRegression\n",
    "from sklearn import metrics\n",
    "from sklearn.metrics import confusion_matrix, ConfusionMatrixDisplay\n",
    "from sklearn.preprocessing import StandardScaler, LabelEncoder\n",
    "import matplotlib.pyplot as plt\n",
    "import numpy as np\n",
    "from sklearn.pipeline import Pipeline"
   ]
  },
  {
   "cell_type": "code",
   "execution_count": 2,
   "id": "a9ec2e2d353b27bd",
   "metadata": {
    "ExecuteTime": {
     "end_time": "2025-09-28T14:22:31.555774Z",
     "start_time": "2025-09-28T14:22:31.552067Z"
    }
   },
   "outputs": [],
   "source": [
    "training_file = \"wildfires_training.csv\"\n",
    "test_file = \"wildfires_test.csv\"\n",
    "\n",
    "df = pd.read_csv(\"wildfires_training.csv\")\n",
    "df_test = pd.read_csv(\"wildfires_test.csv\")\n",
    "\n",
    "dependent_variable = \"fire\"\n",
    "independent_variables = [col for col in df.columns if col != dependent_variable]"
   ]
  },
  {
   "cell_type": "code",
   "execution_count": 3,
   "id": "1e9f1ba7fb44b557",
   "metadata": {
    "ExecuteTime": {
     "end_time": "2025-09-28T14:22:31.560961Z",
     "start_time": "2025-09-28T14:22:31.557902Z"
    }
   },
   "outputs": [
    {
     "name": "stdout",
     "output_type": "stream",
     "text": [
      "<class 'pandas.core.frame.DataFrame'>\n",
      "RangeIndex: 154 entries, 0 to 153\n",
      "Data columns (total 10 columns):\n",
      " #   Column         Non-Null Count  Dtype  \n",
      "---  ------         --------------  -----  \n",
      " 0   fire           154 non-null    object \n",
      " 1   year           154 non-null    int64  \n",
      " 2   temp           154 non-null    int64  \n",
      " 3   humidity       154 non-null    int64  \n",
      " 4   rainfall       154 non-null    float64\n",
      " 5   drought_code   154 non-null    float64\n",
      " 6   buildup_index  154 non-null    float64\n",
      " 7   day            154 non-null    int64  \n",
      " 8   month          154 non-null    int64  \n",
      " 9   wind_speed     154 non-null    int64  \n",
      "dtypes: float64(3), int64(6), object(1)\n",
      "memory usage: 12.2+ KB\n"
     ]
    }
   ],
   "source": [
    "df.info()"
   ]
  },
  {
   "cell_type": "code",
   "execution_count": 4,
   "id": "e4bfc9bfe9cf830d",
   "metadata": {
    "ExecuteTime": {
     "end_time": "2025-09-28T14:22:31.573932Z",
     "start_time": "2025-09-28T14:22:31.565550Z"
    }
   },
   "outputs": [
    {
     "data": {
      "text/html": [
       "<div>\n",
       "<style scoped>\n",
       "    .dataframe tbody tr th:only-of-type {\n",
       "        vertical-align: middle;\n",
       "    }\n",
       "\n",
       "    .dataframe tbody tr th {\n",
       "        vertical-align: top;\n",
       "    }\n",
       "\n",
       "    .dataframe thead th {\n",
       "        text-align: right;\n",
       "    }\n",
       "</style>\n",
       "<table border=\"1\" class=\"dataframe\">\n",
       "  <thead>\n",
       "    <tr style=\"text-align: right;\">\n",
       "      <th></th>\n",
       "      <th>year</th>\n",
       "      <th>temp</th>\n",
       "      <th>humidity</th>\n",
       "      <th>rainfall</th>\n",
       "      <th>drought_code</th>\n",
       "      <th>buildup_index</th>\n",
       "      <th>day</th>\n",
       "      <th>month</th>\n",
       "      <th>wind_speed</th>\n",
       "    </tr>\n",
       "  </thead>\n",
       "  <tbody>\n",
       "    <tr>\n",
       "      <th>count</th>\n",
       "      <td>154.000000</td>\n",
       "      <td>154.000000</td>\n",
       "      <td>154.000000</td>\n",
       "      <td>154.000000</td>\n",
       "      <td>154.000000</td>\n",
       "      <td>154.000000</td>\n",
       "      <td>154.000000</td>\n",
       "      <td>154.000000</td>\n",
       "      <td>154.000000</td>\n",
       "    </tr>\n",
       "    <tr>\n",
       "      <th>mean</th>\n",
       "      <td>2012.058442</td>\n",
       "      <td>31.545455</td>\n",
       "      <td>63.071429</td>\n",
       "      <td>0.855844</td>\n",
       "      <td>48.146299</td>\n",
       "      <td>16.285065</td>\n",
       "      <td>15.077922</td>\n",
       "      <td>7.603896</td>\n",
       "      <td>16.383117</td>\n",
       "    </tr>\n",
       "    <tr>\n",
       "      <th>std</th>\n",
       "      <td>3.355294</td>\n",
       "      <td>3.952481</td>\n",
       "      <td>16.038804</td>\n",
       "      <td>2.246798</td>\n",
       "      <td>47.348331</td>\n",
       "      <td>14.346991</td>\n",
       "      <td>8.085760</td>\n",
       "      <td>1.217620</td>\n",
       "      <td>3.218001</td>\n",
       "    </tr>\n",
       "    <tr>\n",
       "      <th>min</th>\n",
       "      <td>2007.000000</td>\n",
       "      <td>22.000000</td>\n",
       "      <td>21.000000</td>\n",
       "      <td>0.000000</td>\n",
       "      <td>7.180000</td>\n",
       "      <td>1.320000</td>\n",
       "      <td>1.000000</td>\n",
       "      <td>6.000000</td>\n",
       "      <td>6.000000</td>\n",
       "    </tr>\n",
       "    <tr>\n",
       "      <th>25%</th>\n",
       "      <td>2009.000000</td>\n",
       "      <td>29.000000</td>\n",
       "      <td>52.000000</td>\n",
       "      <td>0.000000</td>\n",
       "      <td>9.720000</td>\n",
       "      <td>5.797500</td>\n",
       "      <td>9.000000</td>\n",
       "      <td>6.000000</td>\n",
       "      <td>14.000000</td>\n",
       "    </tr>\n",
       "    <tr>\n",
       "      <th>50%</th>\n",
       "      <td>2012.000000</td>\n",
       "      <td>31.000000</td>\n",
       "      <td>64.000000</td>\n",
       "      <td>0.000000</td>\n",
       "      <td>31.330000</td>\n",
       "      <td>11.450000</td>\n",
       "      <td>15.000000</td>\n",
       "      <td>8.000000</td>\n",
       "      <td>16.000000</td>\n",
       "    </tr>\n",
       "    <tr>\n",
       "      <th>75%</th>\n",
       "      <td>2015.000000</td>\n",
       "      <td>34.000000</td>\n",
       "      <td>77.000000</td>\n",
       "      <td>0.600000</td>\n",
       "      <td>65.257500</td>\n",
       "      <td>22.775000</td>\n",
       "      <td>21.000000</td>\n",
       "      <td>9.000000</td>\n",
       "      <td>18.750000</td>\n",
       "    </tr>\n",
       "    <tr>\n",
       "      <th>max</th>\n",
       "      <td>2017.000000</td>\n",
       "      <td>43.000000</td>\n",
       "      <td>92.000000</td>\n",
       "      <td>16.800000</td>\n",
       "      <td>221.350000</td>\n",
       "      <td>67.720000</td>\n",
       "      <td>31.000000</td>\n",
       "      <td>9.000000</td>\n",
       "      <td>30.000000</td>\n",
       "    </tr>\n",
       "  </tbody>\n",
       "</table>\n",
       "</div>"
      ],
      "text/plain": [
       "              year        temp    humidity    rainfall  drought_code  \\\n",
       "count   154.000000  154.000000  154.000000  154.000000    154.000000   \n",
       "mean   2012.058442   31.545455   63.071429    0.855844     48.146299   \n",
       "std       3.355294    3.952481   16.038804    2.246798     47.348331   \n",
       "min    2007.000000   22.000000   21.000000    0.000000      7.180000   \n",
       "25%    2009.000000   29.000000   52.000000    0.000000      9.720000   \n",
       "50%    2012.000000   31.000000   64.000000    0.000000     31.330000   \n",
       "75%    2015.000000   34.000000   77.000000    0.600000     65.257500   \n",
       "max    2017.000000   43.000000   92.000000   16.800000    221.350000   \n",
       "\n",
       "       buildup_index         day       month  wind_speed  \n",
       "count     154.000000  154.000000  154.000000  154.000000  \n",
       "mean       16.285065   15.077922    7.603896   16.383117  \n",
       "std        14.346991    8.085760    1.217620    3.218001  \n",
       "min         1.320000    1.000000    6.000000    6.000000  \n",
       "25%         5.797500    9.000000    6.000000   14.000000  \n",
       "50%        11.450000   15.000000    8.000000   16.000000  \n",
       "75%        22.775000   21.000000    9.000000   18.750000  \n",
       "max        67.720000   31.000000    9.000000   30.000000  "
      ]
     },
     "execution_count": 4,
     "metadata": {},
     "output_type": "execute_result"
    }
   ],
   "source": [
    "df.describe()"
   ]
  },
  {
   "cell_type": "code",
   "execution_count": 5,
   "id": "84dab66af4f514c0",
   "metadata": {
    "ExecuteTime": {
     "end_time": "2025-09-28T14:22:31.583831Z",
     "start_time": "2025-09-28T14:22:31.581592Z"
    }
   },
   "outputs": [
    {
     "data": {
      "text/plain": [
       "(154, 10)"
      ]
     },
     "execution_count": 5,
     "metadata": {},
     "output_type": "execute_result"
    }
   ],
   "source": [
    "df.shape"
   ]
  },
  {
   "cell_type": "code",
   "execution_count": 6,
   "id": "26ba08fbd300790e",
   "metadata": {
    "ExecuteTime": {
     "end_time": "2025-09-28T14:22:31.591987Z",
     "start_time": "2025-09-28T14:22:31.589560Z"
    }
   },
   "outputs": [],
   "source": [
    "# Training predictors and response variables\n",
    "X_training = df[independent_variables]\n",
    "y_training = df[dependent_variable]\n",
    "y_training = LabelEncoder().fit_transform(y_training)"
   ]
  },
  {
   "cell_type": "code",
   "execution_count": 7,
   "id": "291be89bf9f15018",
   "metadata": {
    "ExecuteTime": {
     "end_time": "2025-09-28T14:22:31.596032Z",
     "start_time": "2025-09-28T14:22:31.594347Z"
    }
   },
   "outputs": [],
   "source": [
    "X_test = df_test[independent_variables]\n",
    "y_test = df_test[dependent_variable]\n",
    "y_test = LabelEncoder().fit_transform(y_test)"
   ]
  },
  {
   "cell_type": "code",
   "execution_count": 8,
   "id": "623da361d2f2cd5e",
   "metadata": {
    "ExecuteTime": {
     "end_time": "2025-09-28T14:22:31.608078Z",
     "start_time": "2025-09-28T14:22:31.597866Z"
    }
   },
   "outputs": [],
   "source": [
    "logreg_pipe = Pipeline(\n",
    "    [(\"scaler\", StandardScaler()), (\"logreg\", LogisticRegression(random_state=42))]\n",
    ")\n",
    "\n",
    "logreg_pipe.fit(X_training, y_training)\n",
    "\n",
    "predictions_training = logreg_pipe.predict(X_training)\n",
    "predictions_test = logreg_pipe.predict(X_test)"
   ]
  },
  {
   "cell_type": "code",
   "execution_count": 9,
   "id": "a03205d75d870f47",
   "metadata": {
    "ExecuteTime": {
     "end_time": "2025-09-28T14:22:31.617719Z",
     "start_time": "2025-09-28T14:22:31.615655Z"
    }
   },
   "outputs": [],
   "source": [
    "accuracy_training = metrics.accuracy_score(y_training, predictions_training)\n",
    "\n",
    "accuracy_test = metrics.accuracy_score(y_test, predictions_test)"
   ]
  },
  {
   "cell_type": "code",
   "execution_count": 10,
   "id": "bc658fc62ecf0191",
   "metadata": {
    "ExecuteTime": {
     "end_time": "2025-09-28T14:22:31.621716Z",
     "start_time": "2025-09-28T14:22:31.619790Z"
    }
   },
   "outputs": [
    {
     "data": {
      "text/plain": [
       "0.8961038961038961"
      ]
     },
     "execution_count": 10,
     "metadata": {},
     "output_type": "execute_result"
    }
   ],
   "source": [
    "accuracy_training"
   ]
  },
  {
   "cell_type": "code",
   "execution_count": 11,
   "id": "549385332ebb385d",
   "metadata": {
    "ExecuteTime": {
     "end_time": "2025-09-28T14:22:31.628618Z",
     "start_time": "2025-09-28T14:22:31.626291Z"
    }
   },
   "outputs": [
    {
     "data": {
      "text/plain": [
       "0.86"
      ]
     },
     "execution_count": 11,
     "metadata": {},
     "output_type": "execute_result"
    }
   ],
   "source": [
    "accuracy_test"
   ]
  },
  {
   "cell_type": "code",
   "execution_count": 12,
   "id": "d23fe6b374167662",
   "metadata": {
    "ExecuteTime": {
     "end_time": "2025-09-28T14:22:31.690159Z",
     "start_time": "2025-09-28T14:22:31.633853Z"
    }
   },
   "outputs": [
    {
     "data": {
      "text/plain": [
       "<sklearn.metrics._plot.confusion_matrix.ConfusionMatrixDisplay at 0x110c612b0>"
      ]
     },
     "execution_count": 12,
     "metadata": {},
     "output_type": "execute_result"
    },
    {
     "data": {
      "image/png": "[encoded data removed]",
      "text/plain": [
       "<Figure size 640x480 with 2 Axes>"
      ]
     },
     "jetTransient": {
      "display_id": null
     },
     "metadata": {},
     "output_type": "display_data"
    }
   ],
   "source": [
    "cm = confusion_matrix(y_test, predictions_test)\n",
    "disp = ConfusionMatrixDisplay(confusion_matrix=cm)\n",
    "disp.plot(cmap=plt.cm.Reds)"
   ]
  },
  {
   "cell_type": "code",
   "execution_count": 13,
   "id": "7ed0512ae9cc2cb",
   "metadata": {
    "ExecuteTime": {
     "end_time": "2025-09-28T14:22:31.695162Z",
     "start_time": "2025-09-28T14:22:31.693435Z"
    }
   },
   "outputs": [],
   "source": [
    "# Time to re-run with Hyper-parameter tuning\n",
    "penalties = [\"l1\", \"l2\", None]\n",
    "c_values = np.arange(0.1, 10, 0.2)"
   ]
  },
  {
   "cell_type": "code",
   "execution_count": 14,
   "id": "ac90a2ba2a9c2b8c",
   "metadata": {
    "ExecuteTime": {
     "end_time": "2025-09-28T14:22:32.022428Z",
     "start_time": "2025-09-28T14:22:31.699237Z"
    }
   },
   "outputs": [
    {
     "name": "stderr",
     "output_type": "stream",
     "text": [
      "/Users/jakeogrady/Desktop/school/four/ml/assignment1/classification_assignment/.venv/lib/python3.13/site-packages/sklearn/linear_model/_logistic.py:1232: UserWarning: Setting penalty=None will ignore the C and l1_ratio parameters\n",
      "  warnings.warn(\n",
      "/Users/jakeogrady/Desktop/school/four/ml/assignment1/classification_assignment/.venv/lib/python3.13/site-packages/sklearn/linear_model/_logistic.py:1232: UserWarning: Setting penalty=None will ignore the C and l1_ratio parameters\n",
      "  warnings.warn(\n",
      "/Users/jakeogrady/Desktop/school/four/ml/assignment1/classification_assignment/.venv/lib/python3.13/site-packages/sklearn/linear_model/_logistic.py:1232: UserWarning: Setting penalty=None will ignore the C and l1_ratio parameters\n",
      "  warnings.warn(\n",
      "/Users/jakeogrady/Desktop/school/four/ml/assignment1/classification_assignment/.venv/lib/python3.13/site-packages/sklearn/linear_model/_logistic.py:1232: UserWarning: Setting penalty=None will ignore the C and l1_ratio parameters\n",
      "  warnings.warn(\n",
      "/Users/jakeogrady/Desktop/school/four/ml/assignment1/classification_assignment/.venv/lib/python3.13/site-packages/sklearn/linear_model/_logistic.py:1232: UserWarning: Setting penalty=None will ignore the C and l1_ratio parameters\n",
      "  warnings.warn(\n",
      "/Users/jakeogrady/Desktop/school/four/ml/assignment1/classification_assignment/.venv/lib/python3.13/site-packages/sklearn/linear_model/_logistic.py:1232: UserWarning: Setting penalty=None will ignore the C and l1_ratio parameters\n",
      "  warnings.warn(\n",
      "/Users/jakeogrady/Desktop/school/four/ml/assignment1/classification_assignment/.venv/lib/python3.13/site-packages/sklearn/linear_model/_logistic.py:1232: UserWarning: Setting penalty=None will ignore the C and l1_ratio parameters\n",
      "  warnings.warn(\n",
      "/Users/jakeogrady/Desktop/school/four/ml/assignment1/classification_assignment/.venv/lib/python3.13/site-packages/sklearn/linear_model/_logistic.py:1232: UserWarning: Setting penalty=None will ignore the C and l1_ratio parameters\n",
      "  warnings.warn(\n",
      "/Users/jakeogrady/Desktop/school/four/ml/assignment1/classification_assignment/.venv/lib/python3.13/site-packages/sklearn/linear_model/_logistic.py:1232: UserWarning: Setting penalty=None will ignore the C and l1_ratio parameters\n",
      "  warnings.warn(\n",
      "/Users/jakeogrady/Desktop/school/four/ml/assignment1/classification_assignment/.venv/lib/python3.13/site-packages/sklearn/linear_model/_logistic.py:1232: UserWarning: Setting penalty=None will ignore the C and l1_ratio parameters\n",
      "  warnings.warn(\n",
      "/Users/jakeogrady/Desktop/school/four/ml/assignment1/classification_assignment/.venv/lib/python3.13/site-packages/sklearn/linear_model/_logistic.py:1232: UserWarning: Setting penalty=None will ignore the C and l1_ratio parameters\n",
      "  warnings.warn(\n",
      "/Users/jakeogrady/Desktop/school/four/ml/assignment1/classification_assignment/.venv/lib/python3.13/site-packages/sklearn/linear_model/_logistic.py:1232: UserWarning: Setting penalty=None will ignore the C and l1_ratio parameters\n",
      "  warnings.warn(\n",
      "/Users/jakeogrady/Desktop/school/four/ml/assignment1/classification_assignment/.venv/lib/python3.13/site-packages/sklearn/linear_model/_logistic.py:1232: UserWarning: Setting penalty=None will ignore the C and l1_ratio parameters\n",
      "  warnings.warn(\n",
      "/Users/jakeogrady/Desktop/school/four/ml/assignment1/classification_assignment/.venv/lib/python3.13/site-packages/sklearn/linear_model/_logistic.py:1232: UserWarning: Setting penalty=None will ignore the C and l1_ratio parameters\n",
      "  warnings.warn(\n",
      "/Users/jakeogrady/Desktop/school/four/ml/assignment1/classification_assignment/.venv/lib/python3.13/site-packages/sklearn/linear_model/_logistic.py:1232: UserWarning: Setting penalty=None will ignore the C and l1_ratio parameters\n",
      "  warnings.warn(\n",
      "/Users/jakeogrady/Desktop/school/four/ml/assignment1/classification_assignment/.venv/lib/python3.13/site-packages/sklearn/linear_model/_logistic.py:1232: UserWarning: Setting penalty=None will ignore the C and l1_ratio parameters\n",
      "  warnings.warn(\n",
      "/Users/jakeogrady/Desktop/school/four/ml/assignment1/classification_assignment/.venv/lib/python3.13/site-packages/sklearn/linear_model/_logistic.py:1232: UserWarning: Setting penalty=None will ignore the C and l1_ratio parameters\n",
      "  warnings.warn(\n",
      "/Users/jakeogrady/Desktop/school/four/ml/assignment1/classification_assignment/.venv/lib/python3.13/site-packages/sklearn/linear_model/_logistic.py:1232: UserWarning: Setting penalty=None will ignore the C and l1_ratio parameters\n",
      "  warnings.warn(\n",
      "/Users/jakeogrady/Desktop/school/four/ml/assignment1/classification_assignment/.venv/lib/python3.13/site-packages/sklearn/linear_model/_logistic.py:1232: UserWarning: Setting penalty=None will ignore the C and l1_ratio parameters\n",
      "  warnings.warn(\n",
      "/Users/jakeogrady/Desktop/school/four/ml/assignment1/classification_assignment/.venv/lib/python3.13/site-packages/sklearn/linear_model/_logistic.py:1232: UserWarning: Setting penalty=None will ignore the C and l1_ratio parameters\n",
      "  warnings.warn(\n",
      "/Users/jakeogrady/Desktop/school/four/ml/assignment1/classification_assignment/.venv/lib/python3.13/site-packages/sklearn/linear_model/_logistic.py:1232: UserWarning: Setting penalty=None will ignore the C and l1_ratio parameters\n",
      "  warnings.warn(\n",
      "/Users/jakeogrady/Desktop/school/four/ml/assignment1/classification_assignment/.venv/lib/python3.13/site-packages/sklearn/linear_model/_logistic.py:1232: UserWarning: Setting penalty=None will ignore the C and l1_ratio parameters\n",
      "  warnings.warn(\n",
      "/Users/jakeogrady/Desktop/school/four/ml/assignment1/classification_assignment/.venv/lib/python3.13/site-packages/sklearn/linear_model/_logistic.py:1232: UserWarning: Setting penalty=None will ignore the C and l1_ratio parameters\n",
      "  warnings.warn(\n",
      "/Users/jakeogrady/Desktop/school/four/ml/assignment1/classification_assignment/.venv/lib/python3.13/site-packages/sklearn/linear_model/_logistic.py:1232: UserWarning: Setting penalty=None will ignore the C and l1_ratio parameters\n",
      "  warnings.warn(\n",
      "/Users/jakeogrady/Desktop/school/four/ml/assignment1/classification_assignment/.venv/lib/python3.13/site-packages/sklearn/linear_model/_logistic.py:1232: UserWarning: Setting penalty=None will ignore the C and l1_ratio parameters\n",
      "  warnings.warn(\n",
      "/Users/jakeogrady/Desktop/school/four/ml/assignment1/classification_assignment/.venv/lib/python3.13/site-packages/sklearn/linear_model/_logistic.py:1232: UserWarning: Setting penalty=None will ignore the C and l1_ratio parameters\n",
      "  warnings.warn(\n",
      "/Users/jakeogrady/Desktop/school/four/ml/assignment1/classification_assignment/.venv/lib/python3.13/site-packages/sklearn/linear_model/_logistic.py:1232: UserWarning: Setting penalty=None will ignore the C and l1_ratio parameters\n",
      "  warnings.warn(\n",
      "/Users/jakeogrady/Desktop/school/four/ml/assignment1/classification_assignment/.venv/lib/python3.13/site-packages/sklearn/linear_model/_logistic.py:1232: UserWarning: Setting penalty=None will ignore the C and l1_ratio parameters\n",
      "  warnings.warn(\n",
      "/Users/jakeogrady/Desktop/school/four/ml/assignment1/classification_assignment/.venv/lib/python3.13/site-packages/sklearn/linear_model/_logistic.py:1232: UserWarning: Setting penalty=None will ignore the C and l1_ratio parameters\n",
      "  warnings.warn(\n",
      "/Users/jakeogrady/Desktop/school/four/ml/assignment1/classification_assignment/.venv/lib/python3.13/site-packages/sklearn/linear_model/_logistic.py:1232: UserWarning: Setting penalty=None will ignore the C and l1_ratio parameters\n",
      "  warnings.warn(\n",
      "/Users/jakeogrady/Desktop/school/four/ml/assignment1/classification_assignment/.venv/lib/python3.13/site-packages/sklearn/linear_model/_logistic.py:1232: UserWarning: Setting penalty=None will ignore the C and l1_ratio parameters\n",
      "  warnings.warn(\n",
      "/Users/jakeogrady/Desktop/school/four/ml/assignment1/classification_assignment/.venv/lib/python3.13/site-packages/sklearn/linear_model/_logistic.py:1232: UserWarning: Setting penalty=None will ignore the C and l1_ratio parameters\n",
      "  warnings.warn(\n",
      "/Users/jakeogrady/Desktop/school/four/ml/assignment1/classification_assignment/.venv/lib/python3.13/site-packages/sklearn/linear_model/_logistic.py:1232: UserWarning: Setting penalty=None will ignore the C and l1_ratio parameters\n",
      "  warnings.warn(\n",
      "/Users/jakeogrady/Desktop/school/four/ml/assignment1/classification_assignment/.venv/lib/python3.13/site-packages/sklearn/linear_model/_logistic.py:1232: UserWarning: Setting penalty=None will ignore the C and l1_ratio parameters\n",
      "  warnings.warn(\n",
      "/Users/jakeogrady/Desktop/school/four/ml/assignment1/classification_assignment/.venv/lib/python3.13/site-packages/sklearn/linear_model/_logistic.py:1232: UserWarning: Setting penalty=None will ignore the C and l1_ratio parameters\n",
      "  warnings.warn(\n",
      "/Users/jakeogrady/Desktop/school/four/ml/assignment1/classification_assignment/.venv/lib/python3.13/site-packages/sklearn/linear_model/_logistic.py:1232: UserWarning: Setting penalty=None will ignore the C and l1_ratio parameters\n",
      "  warnings.warn(\n",
      "/Users/jakeogrady/Desktop/school/four/ml/assignment1/classification_assignment/.venv/lib/python3.13/site-packages/sklearn/linear_model/_logistic.py:1232: UserWarning: Setting penalty=None will ignore the C and l1_ratio parameters\n",
      "  warnings.warn(\n",
      "/Users/jakeogrady/Desktop/school/four/ml/assignment1/classification_assignment/.venv/lib/python3.13/site-packages/sklearn/linear_model/_logistic.py:1232: UserWarning: Setting penalty=None will ignore the C and l1_ratio parameters\n",
      "  warnings.warn(\n",
      "/Users/jakeogrady/Desktop/school/four/ml/assignment1/classification_assignment/.venv/lib/python3.13/site-packages/sklearn/linear_model/_logistic.py:1232: UserWarning: Setting penalty=None will ignore the C and l1_ratio parameters\n",
      "  warnings.warn(\n",
      "/Users/jakeogrady/Desktop/school/four/ml/assignment1/classification_assignment/.venv/lib/python3.13/site-packages/sklearn/linear_model/_logistic.py:1232: UserWarning: Setting penalty=None will ignore the C and l1_ratio parameters\n",
      "  warnings.warn(\n",
      "/Users/jakeogrady/Desktop/school/four/ml/assignment1/classification_assignment/.venv/lib/python3.13/site-packages/sklearn/linear_model/_logistic.py:1232: UserWarning: Setting penalty=None will ignore the C and l1_ratio parameters\n",
      "  warnings.warn(\n",
      "/Users/jakeogrady/Desktop/school/four/ml/assignment1/classification_assignment/.venv/lib/python3.13/site-packages/sklearn/linear_model/_logistic.py:1232: UserWarning: Setting penalty=None will ignore the C and l1_ratio parameters\n",
      "  warnings.warn(\n",
      "/Users/jakeogrady/Desktop/school/four/ml/assignment1/classification_assignment/.venv/lib/python3.13/site-packages/sklearn/linear_model/_logistic.py:1232: UserWarning: Setting penalty=None will ignore the C and l1_ratio parameters\n",
      "  warnings.warn(\n",
      "/Users/jakeogrady/Desktop/school/four/ml/assignment1/classification_assignment/.venv/lib/python3.13/site-packages/sklearn/linear_model/_logistic.py:1232: UserWarning: Setting penalty=None will ignore the C and l1_ratio parameters\n",
      "  warnings.warn(\n",
      "/Users/jakeogrady/Desktop/school/four/ml/assignment1/classification_assignment/.venv/lib/python3.13/site-packages/sklearn/linear_model/_logistic.py:1232: UserWarning: Setting penalty=None will ignore the C and l1_ratio parameters\n",
      "  warnings.warn(\n",
      "/Users/jakeogrady/Desktop/school/four/ml/assignment1/classification_assignment/.venv/lib/python3.13/site-packages/sklearn/linear_model/_logistic.py:1232: UserWarning: Setting penalty=None will ignore the C and l1_ratio parameters\n",
      "  warnings.warn(\n",
      "/Users/jakeogrady/Desktop/school/four/ml/assignment1/classification_assignment/.venv/lib/python3.13/site-packages/sklearn/linear_model/_logistic.py:1232: UserWarning: Setting penalty=None will ignore the C and l1_ratio parameters\n",
      "  warnings.warn(\n",
      "/Users/jakeogrady/Desktop/school/four/ml/assignment1/classification_assignment/.venv/lib/python3.13/site-packages/sklearn/linear_model/_logistic.py:1232: UserWarning: Setting penalty=None will ignore the C and l1_ratio parameters\n",
      "  warnings.warn(\n",
      "/Users/jakeogrady/Desktop/school/four/ml/assignment1/classification_assignment/.venv/lib/python3.13/site-packages/sklearn/linear_model/_logistic.py:1232: UserWarning: Setting penalty=None will ignore the C and l1_ratio parameters\n",
      "  warnings.warn(\n",
      "/Users/jakeogrady/Desktop/school/four/ml/assignment1/classification_assignment/.venv/lib/python3.13/site-packages/sklearn/linear_model/_logistic.py:1232: UserWarning: Setting penalty=None will ignore the C and l1_ratio parameters\n",
      "  warnings.warn(\n"
     ]
    }
   ],
   "source": [
    "training_test_comparison = {}\n",
    "\n",
    "for penalty in penalties:\n",
    "    for c in c_values:\n",
    "        solver = \"liblinear\" if penalty == \"l1\" else \"lbfgs\"\n",
    "        logreg_pipe = Pipeline(\n",
    "            [\n",
    "                (\"scaler\", StandardScaler()),\n",
    "                (\n",
    "                    \"logreg\",\n",
    "                    LogisticRegression(\n",
    "                        random_state=42, penalty=penalty, C=c, solver=solver\n",
    "                    ),\n",
    "                ),\n",
    "            ]\n",
    "        )\n",
    "        logreg_pipe.fit(X_training, y_training)\n",
    "        predictions_training = logreg_pipe.predict(X_training)\n",
    "        predictions_test = logreg_pipe.predict(X_test)\n",
    "\n",
    "        accuracy_training = metrics.accuracy_score(y_training, predictions_training)\n",
    "        accuracy_test = metrics.accuracy_score(y_test, predictions_test)\n",
    "\n",
    "        key = f\"{penalty}-{c}\"\n",
    "\n",
    "        training_test_comparison[key] = {\n",
    "            \"training\": accuracy_training,\n",
    "            \"test\": accuracy_test,\n",
    "            \"penalty\": penalty,\n",
    "            \"c\": c,\n",
    "            \"predictions\": predictions_test,\n",
    "        }"
   ]
  },
  {
   "cell_type": "code",
   "execution_count": 15,
   "id": "f81de154920defbb",
   "metadata": {
    "ExecuteTime": {
     "end_time": "2025-09-28T14:22:32.135286Z",
     "start_time": "2025-09-28T14:22:32.026136Z"
    }
   },
   "outputs": [
    {
     "name": "stdout",
     "output_type": "stream",
     "text": [
      "Best Accuracy with l1 penalty:\n",
      "  C = 2.7000000000000006\n",
      "  Training Accuracy = 0.909\n",
      "  Test Accuracy = 0.880\n",
      "------------------------------\n",
      "Best Accuracy with l2 penalty:\n",
      "  C = 0.7000000000000002\n",
      "  Training Accuracy = 0.877\n",
      "  Test Accuracy = 0.860\n",
      "------------------------------\n",
      "Best Accuracy with no penalty:\n",
      "  C = 0.1\n",
      "  Training Accuracy = 0.929\n",
      "  Test Accuracy = 0.900\n",
      "------------------------------\n"
     ]
    },
    {
     "data": {
      "image/png": "[encoded data removed]",
      "text/plain": [
       "<Figure size 640x480 with 2 Axes>"
      ]
     },
     "jetTransient": {
      "display_id": null
     },
     "metadata": {},
     "output_type": "display_data"
    },
    {
     "data": {
      "image/png": "[encoded data removed]",
      "text/plain": [
       "<Figure size 640x480 with 2 Axes>"
      ]
     },
     "jetTransient": {
      "display_id": null
     },
     "metadata": {},
     "output_type": "display_data"
    },
    {
     "data": {
      "image/png": "[encoded data removed]",
      "text/plain": [
       "<Figure size 640x480 with 2 Axes>"
      ]
     },
     "jetTransient": {
      "display_id": null
     },
     "metadata": {},
     "output_type": "display_data"
    }
   ],
   "source": [
    "best_models = {}\n",
    "\n",
    "for key, value in training_test_comparison.items():\n",
    "    pen = value[\"penalty\"]\n",
    "    # If penalty not yet seen, or this test accuracy is higher, update best model\n",
    "    if pen not in best_models or value[\"test\"] > best_models[pen][\"test\"]:\n",
    "        best_models[pen] = value\n",
    "\n",
    "# Print nicely\n",
    "for pen in [\"l1\", \"l2\", None]:\n",
    "    model = best_models[pen]\n",
    "    print(f\"Best Accuracy with {pen if pen is not None else 'no'} penalty:\")\n",
    "    print(f\"  C = {model['c']}\")\n",
    "    print(f\"  Training Accuracy = {model['training']:.3f}\")\n",
    "    print(f\"  Test Accuracy = {model['test']:.3f}\")\n",
    "    print(\"-\" * 30)\n",
    "\n",
    "    cm = confusion_matrix(y_test, model[\"predictions\"])\n",
    "    disp = ConfusionMatrixDisplay(\n",
    "        confusion_matrix=cm, display_labels=logreg_pipe.classes_\n",
    "    )\n",
    "    disp.plot(cmap=plt.cm.Reds)\n",
    "    disp.ax_.set_title(f\"Penalty: {pen}\")"
   ]
  },
  {
   "cell_type": "code",
   "execution_count": null,
   "id": "5984ffcd6193460c",
   "metadata": {
    "ExecuteTime": {
     "end_time": "2025-09-28T14:22:32.138827Z",
     "start_time": "2025-09-28T14:22:32.137685Z"
    }
   },
   "outputs": [],
   "source": []
  }
 ],
 "metadata": {
  "kernelspec": {
   "display_name": "Python 3",
   "language": "python",
   "name": "python3"
  },
  "language_info": {
   "codemirror_mode": {
    "name": "ipython",
    "version": 2
   },
   "file_extension": ".py",
   "mimetype": "text/x-python",
   "name": "python",
   "nbconvert_exporter": "python",
   "pygments_lexer": "ipython2",
   "version": "2.7.6"
  }
 },
 "nbformat": 4,
 "nbformat_minor": 5
}
